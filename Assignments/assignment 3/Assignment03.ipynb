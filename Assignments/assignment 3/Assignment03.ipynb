{
  "cells": [
    {
      "cell_type": "markdown",
      "id": "22ed0bbf-2ef0-4ab1-85bc-5050879c33d7",
      "metadata": {
        "id": "22ed0bbf-2ef0-4ab1-85bc-5050879c33d7"
      },
      "source": [
        "## Assignment No 03      (Parth Gajare - 15)"
      ]
    },
    {
      "cell_type": "code",
      "execution_count": null,
      "id": "256b00af-3a46-4cfe-8153-6b79343c2948",
      "metadata": {
        "id": "256b00af-3a46-4cfe-8153-6b79343c2948",
        "outputId": "0acb23a3-6ff3-42ae-cda7-df099f80b802"
      },
      "outputs": [
        {
          "name": "stdin",
          "output_type": "stream",
          "text": [
            "Enter the elements of the linked list separated by spaces:  1 2 3 4 5\n",
            "Enter the value of k:  2\n"
          ]
        },
        {
          "name": "stdout",
          "output_type": "stream",
          "text": [
            "Rotated Linked List: [4, 5, 1, 2, 3]\n"
          ]
        }
      ],
      "source": [
        "class ListNode:\n",
        "    def __init__(self, val=0, next=None):\n",
        "        self.val = val\n",
        "        self.next = next\n",
        "\n",
        "def rotateRight(head, k):\n",
        "    if not head or not head.next or k == 0:\n",
        "        return head\n",
        "\n",
        "\n",
        "    length = 1\n",
        "    tail = head\n",
        "    while tail.next:\n",
        "        tail = tail.next\n",
        "        length += 1\n",
        "\n",
        "\n",
        "    tail.next = head\n",
        "\n",
        "\n",
        "    k = k % length\n",
        "    steps_to_new_head = length - k\n",
        "    new_tail = head\n",
        "    for _ in range(steps_to_new_head - 1):\n",
        "        new_tail = new_tail.next\n",
        "\n",
        "\n",
        "    new_head = new_tail.next\n",
        "    new_tail.next = None\n",
        "\n",
        "    return new_head\n",
        "\n",
        "\n",
        "def list_to_linkedlist(arr):\n",
        "    if not arr:\n",
        "        return None\n",
        "    head = ListNode(arr[0])\n",
        "    current = head\n",
        "    for val in arr[1:]:\n",
        "        current.next = ListNode(val)\n",
        "        current = current.next\n",
        "    return head\n",
        "\n",
        "\n",
        "def linkedlist_to_list(head):\n",
        "    result = []\n",
        "    while head:\n",
        "        result.append(head.val)\n",
        "        head = head.next\n",
        "    return result\n",
        "\n",
        "\n",
        "arr = list(map(int, input(\"Enter the elements of the linked list separated by spaces: \").split()))\n",
        "k = int(input(\"Enter the value of k: \"))\n",
        "\n",
        "head = list_to_linkedlist(arr)\n",
        "new_head = rotateRight(head, k)\n",
        "print(\"Rotated Linked List:\", linkedlist_to_list(new_head))\n"
      ]
    },
    {
      "cell_type": "code",
      "execution_count": null,
      "id": "1a9059f9-aba0-4fe2-a9d8-42dd4f6fa225",
      "metadata": {
        "id": "1a9059f9-aba0-4fe2-a9d8-42dd4f6fa225"
      },
      "outputs": [],
      "source": []
    }
  ],
  "metadata": {
    "kernelspec": {
      "display_name": "Python 3 (ipykernel)",
      "language": "python",
      "name": "python3"
    },
    "language_info": {
      "codemirror_mode": {
        "name": "ipython",
        "version": 3
      },
      "file_extension": ".py",
      "mimetype": "text/x-python",
      "name": "python",
      "nbconvert_exporter": "python",
      "pygments_lexer": "ipython3",
      "version": "3.12.6"
    },
    "colab": {
      "provenance": []
    }
  },
  "nbformat": 4,
  "nbformat_minor": 5
}