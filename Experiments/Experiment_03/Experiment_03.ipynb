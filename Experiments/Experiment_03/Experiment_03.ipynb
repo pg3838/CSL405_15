{
  "cells": [
    {
      "cell_type": "markdown",
      "source": [
        "#Assignment 03(Parth Manoj Gajare AIDS - 15)"
      ],
      "metadata": {
        "id": "zxeJg2q4fRoQ"
      },
      "id": "zxeJg2q4fRoQ"
    },
    {
      "cell_type": "code",
      "execution_count": null,
      "id": "2c5c2992-1f31-4f41-8750-3125a1263b6d",
      "metadata": {
        "id": "2c5c2992-1f31-4f41-8750-3125a1263b6d",
        "outputId": "bdba835c-2fe0-4734-ce0d-bde9a674f3fe"
      },
      "outputs": [
        {
          "name": "stdout",
          "output_type": "stream",
          "text": [
            "Lines: 4\n",
            "Words: 21\n",
            "Characters: 124\n"
          ]
        }
      ],
      "source": [
        "if __name__ == '__main__':\n",
        "    with open ('./file.txt', 'r') as file:\n",
        "        lines = file.readlines ()\n",
        "        numberOfLines = len (lines)\n",
        "        numberOfWords = sum (len (line.split()) for line in lines)\n",
        "\n",
        "        # Write numberOfCharacters over here.\n",
        "        numberOfCharacters = sum(len(line) for line in lines)\n",
        "\n",
        "    print(f\"Lines: {numberOfLines}\")\n",
        "    print(f\"Words: {numberOfWords}\")\n",
        "    print(f\"Characters: {numberOfCharacters}\")"
      ]
    },
    {
      "cell_type": "code",
      "execution_count": null,
      "id": "70224a81-5f71-4308-b32f-59329ed268a9",
      "metadata": {
        "id": "70224a81-5f71-4308-b32f-59329ed268a9"
      },
      "outputs": [],
      "source": []
    }
  ],
  "metadata": {
    "kernelspec": {
      "display_name": "Python 3 (ipykernel)",
      "language": "python",
      "name": "python3"
    },
    "language_info": {
      "codemirror_mode": {
        "name": "ipython",
        "version": 3
      },
      "file_extension": ".py",
      "mimetype": "text/x-python",
      "name": "python",
      "nbconvert_exporter": "python",
      "pygments_lexer": "ipython3",
      "version": "3.13.1"
    },
    "colab": {
      "provenance": []
    }
  },
  "nbformat": 4,
  "nbformat_minor": 5
}