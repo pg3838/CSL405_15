{
  "cells": [
    {
      "cell_type": "markdown",
      "id": "9fc3e63d-577a-47c0-a7d4-96d128824145",
      "metadata": {
        "id": "9fc3e63d-577a-47c0-a7d4-96d128824145"
      },
      "source": [
        "## Experiment_04 (Parth Manoj Gajare AIDS - 15)"
      ]
    },
    {
      "cell_type": "code",
      "execution_count": null,
      "id": "63bcd0bc-b90e-4b6f-83fd-d162d597a9e9",
      "metadata": {
        "id": "63bcd0bc-b90e-4b6f-83fd-d162d597a9e9",
        "outputId": "1f10583d-74c5-432a-c2da-dc9c79a65fe1"
      },
      "outputs": [
        {
          "name": "stdout",
          "output_type": "stream",
          "text": [
            "Files in the current directory:\n",
            "Experient_04.png\n",
            "listingDirectories.py\n",
            "Untitled.ipynb\n"
          ]
        }
      ],
      "source": [
        "from pathlib import Path\n",
        "\n",
        "files = [f for f in Path('.').iterdir() if f.is_file()]\n",
        "\n",
        "print(\"Files in the current directory:\")\n",
        "for file in files:\n",
        "    print(file.name)\n",
        "\n",
        "# '''\n",
        "# The above scipt uses os module to perform the required function.\n",
        "# Utilize the pathlib module to perform the same functionality.\n",
        "# '''"
      ]
    },
    {
      "cell_type": "code",
      "execution_count": null,
      "id": "d68c0c0c-c242-41a9-8ffc-9193ad0744a9",
      "metadata": {
        "id": "d68c0c0c-c242-41a9-8ffc-9193ad0744a9"
      },
      "outputs": [],
      "source": []
    }
  ],
  "metadata": {
    "kernelspec": {
      "display_name": "Python 3 (ipykernel)",
      "language": "python",
      "name": "python3"
    },
    "language_info": {
      "codemirror_mode": {
        "name": "ipython",
        "version": 3
      },
      "file_extension": ".py",
      "mimetype": "text/x-python",
      "name": "python",
      "nbconvert_exporter": "python",
      "pygments_lexer": "ipython3",
      "version": "3.13.1"
    },
    "colab": {
      "provenance": []
    }
  },
  "nbformat": 4,
  "nbformat_minor": 5
}