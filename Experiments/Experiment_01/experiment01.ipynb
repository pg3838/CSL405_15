{
  "cells": [
    {
      "cell_type": "markdown",
      "metadata": {
        "id": "TUH_gOCNdmTs"
      },
      "source": [
        "### Strings in Python (Parth Manoj Gajare AIDS - 15)"
      ]
    },
    {
      "cell_type": "code",
      "execution_count": null,
      "metadata": {
        "id": "hKkC7kE4dmTv",
        "outputId": "e5357492-8b90-455d-afd9-82c991f7b76f"
      },
      "outputs": [
        {
          "name": "stdout",
          "output_type": "stream",
          "text": [
            "This is a string\n",
            "This is a string\n",
            "This is a string\n"
          ]
        }
      ],
      "source": [
        "# Assigning string to a variable\n",
        "a = 'This is a string'\n",
        "print (a)\n",
        "b = \"This is a string\"\n",
        "print (b)\n",
        "c= '''This is a string'''\n",
        "print (c)"
      ]
    },
    {
      "cell_type": "markdown",
      "metadata": {
        "id": "oFPn5nURdmTy"
      },
      "source": [
        "### Lists in Python"
      ]
    },
    {
      "cell_type": "code",
      "execution_count": null,
      "metadata": {
        "id": "blw37PPhdmTz",
        "outputId": "06a91770-c858-4322-a5cd-45a4ca4098da"
      },
      "outputs": [
        {
          "name": "stdout",
          "output_type": "stream",
          "text": [
            "[1, 'a', 'string', 3]\n",
            "[1, 'a', 'string', 3, 6]\n",
            "[1, 'a', 'string', 3]\n",
            "a\n"
          ]
        }
      ],
      "source": [
        "# Declaring a list\n",
        "L = [1, \"a\" , \"string\" , 1+2]\n",
        "print (L)\n",
        "#Adding an element in the list\n",
        "L.append(6)\n",
        "print (L)\n",
        "#Deleting last element from a list\n",
        "L.pop()\n",
        "print (L)\n",
        "#Displaying Second element of the list\n",
        "print (L[1])"
      ]
    },
    {
      "cell_type": "markdown",
      "metadata": {
        "id": "w-WNzqNidmT1"
      },
      "source": [
        "### Tuples in Python"
      ]
    },
    {
      "cell_type": "code",
      "execution_count": null,
      "metadata": {
        "id": "noVcgob5dmT1",
        "outputId": "042f6e03-baa5-4629-a268-9cf644da6c02"
      },
      "outputs": [
        {
          "name": "stdout",
          "output_type": "stream",
          "text": [
            "(1, 'a', 'string', 3)\n",
            "a\n"
          ]
        }
      ],
      "source": [
        "tup = (1, \"a\", \"string\", 1+2)\n",
        "print(tup)\n",
        "print(tup[1])"
      ]
    },
    {
      "cell_type": "markdown",
      "metadata": {
        "id": "qbEURmQHdmT2"
      },
      "source": [
        "### Dictionaries in Python"
      ]
    },
    {
      "cell_type": "markdown",
      "metadata": {
        "id": "U5P4xAVGdmT3"
      },
      "source": [
        "A Python dictionary is a data structure that stores the value in key: value pairs. Values in a dictionary can be of any data type and can be duplicated, whereas keys can’t be repeated and must be immutable."
      ]
    },
    {
      "cell_type": "code",
      "execution_count": null,
      "metadata": {
        "id": "OqmOebEEdmT4",
        "outputId": "efa7f89a-7145-4419-a4e9-918ecfa082b6"
      },
      "outputs": [
        {
          "name": "stdout",
          "output_type": "stream",
          "text": [
            "{1: 'Lorem', 2: 'Ipsum', 3: 'Dolerum'}\n"
          ]
        }
      ],
      "source": [
        "d = {1: 'Lorem', 2: 'Ipsum', 3: 'Dolerum'}\n",
        "print(d)"
      ]
    },
    {
      "cell_type": "markdown",
      "metadata": {
        "id": "f4x9m0IidmT5"
      },
      "source": [
        "#### Create a Dictionary"
      ]
    },
    {
      "cell_type": "code",
      "execution_count": null,
      "metadata": {
        "id": "ghln38_KdmT6",
        "outputId": "6ed5bff8-52e3-4da3-e024-b96e647a63c8"
      },
      "outputs": [
        {
          "name": "stdout",
          "output_type": "stream",
          "text": [
            "{1: 'Game', 2: 'of', 3: 'Thrones'}\n",
            "{'a': 'House', 'b': 'of', 'c': 'Cards'}\n"
          ]
        }
      ],
      "source": [
        "# create dictionary using { }\n",
        "d1 = {1: 'Game', 2: 'of', 3: 'Thrones'}\n",
        "print(d1)\n",
        "\n",
        "# create dictionary using dict() constructor\n",
        "d2 = dict(a = \"House\", b = \"of\", c = \"Cards\")\n",
        "print(d2)"
      ]
    },
    {
      "cell_type": "markdown",
      "metadata": {
        "id": "4mc3whFxdmT7"
      },
      "source": [
        "#### Accessing Dictionary Items"
      ]
    },
    {
      "cell_type": "code",
      "execution_count": null,
      "metadata": {
        "id": "V7mFMSIGdmT8",
        "outputId": "92eef3ed-d0a4-426d-8e3d-5d294438c29d"
      },
      "outputs": [
        {
          "name": "stdout",
          "output_type": "stream",
          "text": [
            "Alice\n",
            "Alice\n"
          ]
        }
      ],
      "source": [
        "d = { \"name\": \"Alice\", 1: \"Python\", (1, 2): [1,2,4] }\n",
        "\n",
        "# Access using key\n",
        "print(d[\"name\"])\n",
        "\n",
        "# Access using get()\n",
        "print(d.get(\"name\"))"
      ]
    },
    {
      "cell_type": "markdown",
      "metadata": {
        "id": "GVwj8oc1dmT_"
      },
      "source": [
        "#### Adding and Updating Dictionary Items"
      ]
    },
    {
      "cell_type": "code",
      "execution_count": null,
      "metadata": {
        "id": "EqM6QOYydmUL",
        "outputId": "3a99811f-9af1-4fe8-9682-2dde1ab16dc9"
      },
      "outputs": [
        {
          "name": "stdout",
          "output_type": "stream",
          "text": [
            "{1: 'Python dict', 2: 'of', 3: 'Thrones', 'age': 22}\n"
          ]
        }
      ],
      "source": [
        "d = {1: 'Game', 2: 'of', 3: 'Thrones'}\n",
        "\n",
        "# Adding a new key-value pair\n",
        "d[\"age\"] = 22\n",
        "\n",
        "# Updating an existing value\n",
        "d[1] = \"Python dict\"\n",
        "\n",
        "print(d)"
      ]
    },
    {
      "cell_type": "markdown",
      "metadata": {
        "id": "zx7s-N4IdmUf"
      },
      "source": [
        "### Delete a Specific Item Using del"
      ]
    },
    {
      "cell_type": "code",
      "execution_count": null,
      "metadata": {
        "id": "hbrANABCdmUg",
        "outputId": "bc8b9355-4e9f-4fdd-db19-5d539faca01b"
      },
      "outputs": [
        {
          "name": "stdout",
          "output_type": "stream",
          "text": [
            "Original Dictionary: {'name': 'John', 'age': 25, 'city': 'New York'}\n",
            "Updated Dictionary: {'name': 'John', 'city': 'New York'}\n"
          ]
        }
      ],
      "source": [
        "# Sample dictionary\n",
        "my_dict = {\n",
        "    \"name\": \"John\",\n",
        "    \"age\": 25,\n",
        "    \"city\": \"New York\"\n",
        "}\n",
        "\n",
        "# Print original dictionary\n",
        "print(\"Original Dictionary:\", my_dict)\n",
        "\n",
        "# Delete an item by its key\n",
        "del my_dict[\"age\"]\n",
        "\n",
        "# Print updated dictionary\n",
        "print(\"Updated Dictionary:\", my_dict)\n"
      ]
    },
    {
      "cell_type": "markdown",
      "metadata": {
        "id": "WKXT8MJedmUi"
      },
      "source": [
        "### Delete Using .pop() Method"
      ]
    },
    {
      "cell_type": "code",
      "execution_count": null,
      "metadata": {
        "id": "wXSp_UoodmUi",
        "outputId": "27060ffc-1c92-4c50-e91c-ee5f344952d4"
      },
      "outputs": [
        {
          "name": "stdout",
          "output_type": "stream",
          "text": [
            "Original Dictionary: {'name': 'John', 'age': 25, 'city': 'New York'}\n",
            "Updated Dictionary: {'name': 'John', 'age': 25}\n",
            "Removed Value: New York\n"
          ]
        }
      ],
      "source": [
        "# Sample dictionary\n",
        "my_dict = {\n",
        "    \"name\": \"John\",\n",
        "    \"age\": 25,\n",
        "    \"city\": \"New York\"\n",
        "}\n",
        "\n",
        "# Print original dictionary\n",
        "print(\"Original Dictionary:\", my_dict)\n",
        "\n",
        "# Remove an item and capture the removed value\n",
        "removed_value = my_dict.pop(\"city\")\n",
        "\n",
        "# Print updated dictionary and the removed value\n",
        "print(\"Updated Dictionary:\", my_dict)\n",
        "print(\"Removed Value:\", removed_value)\n"
      ]
    },
    {
      "cell_type": "markdown",
      "metadata": {
        "id": "oAICir18dmUk"
      },
      "source": [
        "### Delete All Items Using .clear()"
      ]
    },
    {
      "cell_type": "code",
      "execution_count": null,
      "metadata": {
        "id": "j-7L44q4dmUl",
        "outputId": "976ed278-aa63-456b-a1e4-46b021309522"
      },
      "outputs": [
        {
          "name": "stdout",
          "output_type": "stream",
          "text": [
            "Original Dictionary: {'name': 'John', 'age': 25, 'city': 'New York'}\n",
            "Cleared Dictionary: {}\n"
          ]
        }
      ],
      "source": [
        "# Sample dictionary\n",
        "my_dict = {\n",
        "    \"name\": \"John\",\n",
        "    \"age\": 25,\n",
        "    \"city\": \"New York\"\n",
        "}\n",
        "\n",
        "# Print original dictionary\n",
        "print(\"Original Dictionary:\", my_dict)\n",
        "\n",
        "# Clear all items from the dictionary\n",
        "my_dict.clear()\n",
        "\n",
        "# Print the empty dictionary\n",
        "print(\"Cleared Dictionary:\", my_dict)\n"
      ]
    },
    {
      "cell_type": "code",
      "execution_count": null,
      "metadata": {
        "id": "492e_7D6dmUl"
      },
      "outputs": [],
      "source": []
    }
  ],
  "metadata": {
    "kernelspec": {
      "display_name": "Python 3 (ipykernel)",
      "language": "python",
      "name": "python3"
    },
    "language_info": {
      "codemirror_mode": {
        "name": "ipython",
        "version": 3
      },
      "file_extension": ".py",
      "mimetype": "text/x-python",
      "name": "python",
      "nbconvert_exporter": "python",
      "pygments_lexer": "ipython3",
      "version": "3.13.0"
    },
    "colab": {
      "provenance": []
    }
  },
  "nbformat": 4,
  "nbformat_minor": 0
}